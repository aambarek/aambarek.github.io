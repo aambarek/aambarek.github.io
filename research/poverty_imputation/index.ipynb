{
  "cells": [
    {
      "cell_type": "raw",
      "metadata": {},
      "source": [
        "---\n",
        "title: \"ML-Based Approach for Imputing Poverty Rates in The Labor Force Survey in Morocco\"\n",
        "author: \n",
        "  - Abdessamad Ait Mbarek \n",
        "  - Khamissa Elkachach\n",
        "date: \"2022-06-17\"\n",
        "---"
      ],
      "id": "e081e555"
    },
    {
      "cell_type": "markdown",
      "metadata": {},
      "source": [
        "# ABSTRACT\n",
        "\n",
        "\n",
        "```{css}\n",
        "#| echo: false\n",
        "p {\n",
        "  text-align: justify\n",
        "}\n",
        "```\n",
        "\n",
        "\n",
        "***The estimation of poverty requires data on income or consumption expenditures, such data is generally collected by national statistics offices through Household Expenditure Surveys (known as HES). These surveys require a costly budget that statistical agencies cannot afford every year or within short intervals. Usually, such surveys are conducted every 4-7 years. Therefore, researchers find themselves in data upgrade constraint when there is a great need to update poverty indicators. On another side, the Labor Force Survey (LFS), which has a relatively lightweight questionnaire, is less costly comparing to HES. LFS surveys are conducted regularly every year and sometimes within quarterly intervals. They hold a rich source of information about households, namely economic and social status of households, demographics and living conditions. In addition, most of mentioned characteristics are considered as common sections in LFS and HES questionnaires.***\n",
        "\n",
        "***The methodology consisted in using predictive modelling in conjunction with multiple imputation. We adopted a machine learning approach to build models for predicting household's consumption expenditures on the basis of data from LFS and HES 2014. We used cross-survey technique to impute consumption in labor force survey in the purpose of estimating poverty rate for periods when consumption distribution is not available. Two kinds of models were trained separately on rural and urban areas, linear models reveal a good prediction performance, but with over estimation, leaving suspicious bias in the estimation of proportion under poverty line. In contrast, random forest method yields better results especially in urban area.***\n"
      ],
      "id": "695c71d7"
    }
  ],
  "metadata": {
    "kernelspec": {
      "display_name": "Python 3",
      "language": "python",
      "name": "python3"
    }
  },
  "nbformat": 4,
  "nbformat_minor": 5
}